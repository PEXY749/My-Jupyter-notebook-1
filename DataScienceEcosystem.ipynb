{
 "cells": [
  {
   "cell_type": "markdown",
   "id": "16985f32-a9fa-41ac-8f4f-f1a93f2cdf1e",
   "metadata": {},
   "source": [
    "# My Jupyter Notebook"
   ]
  },
  {
   "cell_type": "markdown",
   "id": "60ca2649-151b-40a5-a63c-dbb7fd130d5d",
   "metadata": {},
   "source": [
    "**Abdullah Almasry**\n",
    "economics student aspiring to know more and work with data\n",
    "\n",
    "\n",
    "*I think data science is the most trending topic in the world at the moment due to the rapid development of companies who use methods that revolve around data thus i find it very interesting to learn or have general knowledge about the essence of this science*"
   ]
  },
  {
   "cell_type": "markdown",
   "id": "9bda33e5-6143-4e71-8f93-9e89dfb7152c",
   "metadata": {},
   "source": [
    "Objectives:\n",
    "- Learned various Data science languages\n",
    "- Learned various Data science liberaries\n",
    "- Learned various Data science tools\n",
    "- Learned how to write simple code \n",
    "- Learned how to upload my project for others to review"
   ]
  },
  {
   "cell_type": "markdown",
   "id": "c495e831-e1c5-41c2-b57f-102cb3c270ea",
   "metadata": {},
   "source": [
    "Data science languages\n",
    "1. Python\n",
    "2. R\n",
    "3. SQL\n",
    "4. JAVA\n",
    "5. Julia\n",
    "6. Scala\n",
    "7. Swift\n",
    "8. JavaScript"
   ]
  },
  {
   "cell_type": "markdown",
   "id": "9d82a92a-218f-464a-aed9-1b8b3c06f4c4",
   "metadata": {},
   "source": [
    "## Data science libraries\n",
    "Some of the popular languages that Data Scientists use are:\n",
    "- Scikit-learn\n",
    "- Tensorflow\n",
    "- Pytorch\n",
    "- Numpy\n",
    "- Pandas\n",
    "- Keras\n",
    "- Scipy\n",
    "- Matlplotlib"
   ]
  },
  {
   "cell_type": "markdown",
   "id": "a36c729b-baf6-4d1f-add0-71be740b4c4d",
   "metadata": {},
   "source": [
    "\n",
    "### Data science tools\n",
    "\n",
    "| Tool Name | Description |\n",
    "| --- | --- |\n",
    "| MySQL | Data managment |\n",
    "| Apache airflow | Data integration |\n",
    "| HUE | Data visualization |"
   ]
  },
  {
   "cell_type": "markdown",
   "id": "a81067e1-a152-400e-a9e9-f04258befe6d",
   "metadata": {},
   "source": [
    "### Below are a few examples of evaluating arithmetic expressions in Python"
   ]
  },
  {
   "cell_type": "markdown",
   "id": "488d0e37-177e-4270-9153-21132a426b9c",
   "metadata": {},
   "source": [
    " This a simple arithmetic expression to assign values to letters then perform simple math with them"
   ]
  },
  {
   "cell_type": "code",
   "execution_count": 4,
   "id": "f3bc9287-b386-4889-85e6-eb2af2c9f0e7",
   "metadata": {},
   "outputs": [
    {
     "name": "stdout",
     "output_type": "stream",
     "text": [
      "2\n",
      "6\n"
     ]
    }
   ],
   "source": [
    "x = 1\n",
    "y = x + 1\n",
    "print (y)\n",
    "x = 2 \n",
    "y = x * 3\n",
    "print (y)"
   ]
  },
  {
   "cell_type": "markdown",
   "id": "9fbf59a3-6006-43c1-a817-7043e000fe90",
   "metadata": {},
   "source": [
    " This will convert 200 minutes to hours by diving by 60"
   ]
  },
  {
   "cell_type": "code",
   "execution_count": 21,
   "id": "547e5871-ce4b-4b74-8842-1cb6e3441130",
   "metadata": {},
   "outputs": [
    {
     "name": "stdout",
     "output_type": "stream",
     "text": [
      "3.3333333333333335\n"
     ]
    }
   ],
   "source": [
    "x = 200\n",
    "y = 60\n",
    "z = x / y\n",
    "print (z)\n"
   ]
  },
  {
   "cell_type": "markdown",
   "id": "43a84bfb-2556-46fe-b5d5-dc4cf01a9b04",
   "metadata": {},
   "source": [
    "## Author\n",
    "**Abdullah Almasri**\n"
   ]
  },
  {
   "cell_type": "code",
   "execution_count": null,
   "id": "aa4d101d-3557-4cee-9cd8-04f5cfdc355b",
   "metadata": {},
   "outputs": [],
   "source": []
  }
 ],
 "metadata": {
  "kernelspec": {
   "display_name": "Python",
   "language": "python",
   "name": "conda-env-python-py"
  },
  "language_info": {
   "codemirror_mode": {
    "name": "ipython",
    "version": 3
   },
   "file_extension": ".py",
   "mimetype": "text/x-python",
   "name": "python",
   "nbconvert_exporter": "python",
   "pygments_lexer": "ipython3",
   "version": "3.7.12"
  }
 },
 "nbformat": 4,
 "nbformat_minor": 5
}
