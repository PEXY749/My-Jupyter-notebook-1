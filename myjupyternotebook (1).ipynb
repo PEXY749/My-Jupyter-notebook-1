{
 "cells": [
  {
   "cell_type": "markdown",
   "id": "16985f32-a9fa-41ac-8f4f-f1a93f2cdf1e",
   "metadata": {},
   "source": [
    "# My Jupyter Notebook"
   ]
  },
  {
   "cell_type": "markdown",
   "id": "60ca2649-151b-40a5-a63c-dbb7fd130d5d",
   "metadata": {},
   "source": [
    "**Abdullah Almasry**\n",
    "economics student aspiring to know more and work with data\n",
    "\n",
    "\n",
    "*I think data science is the most trending topic in the world at the moment due to the rapid development of companies who use methods that revolve around data thus i find it very interesting to learn or have general knowledge about the essence of this science*"
   ]
  },
  {
   "cell_type": "markdown",
   "id": "c495e831-e1c5-41c2-b57f-102cb3c270ea",
   "metadata": {},
   "source": [
    "Data science languages\n",
    "- Python\n",
    "- R\n",
    "- SQL\n",
    "- JAVA\n",
    "- Julia\n",
    "- Scala\n",
    "- Swift\n",
    "- JavaScript"
   ]
  },
  {
   "cell_type": "markdown",
   "id": "9d82a92a-218f-464a-aed9-1b8b3c06f4c4",
   "metadata": {},
   "source": [
    "Data science libraries\n",
    "- Scikit-learn\n",
    "- Tensorflow\n",
    "- Pytorch\n",
    "- Numpy\n",
    "- Pandas\n",
    "- Keras\n",
    "- Scipy\n",
    "- Matlplotlib"
   ]
  },
  {
   "cell_type": "markdown",
   "id": "a36c729b-baf6-4d1f-add0-71be740b4c4d",
   "metadata": {},
   "source": [
    "Data science tools\n",
    "- MySQL\n",
    "- MongoDB\n",
    "- Apache Cassandra\n",
    "- Hadoop\n",
    "- Ceph\n",
    "- Jupyter\n",
    "- RStudio\n",
    "- Apache Spark\n",
    "- KNIME"
   ]
  },
  {
   "cell_type": "markdown",
   "id": "a81067e1-a152-400e-a9e9-f04258befe6d",
   "metadata": {},
   "source": [
    "## Explanation\n",
    "*the code assigns x and y to numbers*"
   ]
  },
  {
   "cell_type": "code",
   "execution_count": 4,
   "id": "f3bc9287-b386-4889-85e6-eb2af2c9f0e7",
   "metadata": {},
   "outputs": [
    {
     "name": "stdout",
     "output_type": "stream",
     "text": [
      "2\n",
      "6\n"
     ]
    }
   ],
   "source": [
    "x = 1\n",
    "y = x + 1\n",
    "print (y)\n",
    "x = 2 \n",
    "y = x * 3\n",
    "print (y)"
   ]
  },
  {
   "cell_type": "code",
   "execution_count": 19,
   "id": "547e5871-ce4b-4b74-8842-1cb6e3441130",
   "metadata": {},
   "outputs": [
    {
     "name": "stdout",
     "output_type": "stream",
     "text": [
      "0\n"
     ]
    }
   ],
   "source": [
    "mins = mins % (24 * 1440)\n",
    "hour = mins // 60\n",
    "mins %= 60\n",
    "print(hour)\n",
    "\n"
   ]
  },
  {
   "cell_type": "markdown",
   "id": "757d1921-dd02-4a01-b3b1-de9031eb3366",
   "metadata": {},
   "source": [
    "The objective of this assignment\n",
    "- to test my abilities\n",
    "- to draw and clarify my goals \n",
    "- to have a better understanding of what i learned"
   ]
  },
  {
   "cell_type": "markdown",
   "id": "43a84bfb-2556-46fe-b5d5-dc4cf01a9b04",
   "metadata": {},
   "source": [
    "## Abdullah Almasri"
   ]
  },
  {
   "cell_type": "code",
   "execution_count": null,
   "id": "dc19197c-009e-484c-97ba-9960fa67310b",
   "metadata": {},
   "outputs": [],
   "source": []
  }
 ],
 "metadata": {
  "kernelspec": {
   "display_name": "Python",
   "language": "python",
   "name": "conda-env-python-py"
  },
  "language_info": {
   "codemirror_mode": {
    "name": "ipython",
    "version": 3
   },
   "file_extension": ".py",
   "mimetype": "text/x-python",
   "name": "python",
   "nbconvert_exporter": "python",
   "pygments_lexer": "ipython3",
   "version": "3.7.12"
  }
 },
 "nbformat": 4,
 "nbformat_minor": 5
}
