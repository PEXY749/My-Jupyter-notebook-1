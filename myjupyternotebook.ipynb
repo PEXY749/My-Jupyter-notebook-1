{
 "cells": [
  {
   "cell_type": "markdown",
   "id": "16985f32-a9fa-41ac-8f4f-f1a93f2cdf1e",
   "metadata": {},
   "source": [
    "# My Jupyter Notebook"
   ]
  },
  {
   "cell_type": "markdown",
   "id": "60ca2649-151b-40a5-a63c-dbb7fd130d5d",
   "metadata": {},
   "source": [
    "**Abdullah Almasry**\n",
    "economics student aspiring to know more and work with data"
   ]
  },
  {
   "cell_type": "markdown",
   "id": "c495e831-e1c5-41c2-b57f-102cb3c270ea",
   "metadata": {},
   "source": [
    "*I think data science is the most trending topic in the world at the moment due to the rapid development of companies who use methods that revolve around data thus i find it very interesting to learn or have general knowledge about the essence of this science*"
   ]
  },
  {
   "cell_type": "markdown",
   "id": "203b64a9-917e-465f-b51a-a84eee2c55f4",
   "metadata": {},
   "source": [
    "## I'm assigning letters in certain groups"
   ]
  },
  {
   "cell_type": "code",
   "execution_count": 1,
   "id": "eec33524-b62f-4e00-a756-349ee78ab301",
   "metadata": {},
   "outputs": [
    {
     "name": "stdout",
     "output_type": "stream",
     "text": [
      "abcde\n"
     ]
    }
   ],
   "source": [
    "x = \"abc\"\n",
    "y = \"de\"\n",
    "z = x + y\n",
    "print (z)"
   ]
  },
  {
   "cell_type": "markdown",
   "id": "9d82a92a-218f-464a-aed9-1b8b3c06f4c4",
   "metadata": {},
   "source": [
    "-main 1 \n",
    "- sub 1 \n",
    "- sub 2 \n",
    "\n",
    "\n",
    "1. main 2 \n",
    "2. main 3 \n",
    "3. main 4\n",
    "\n",
    "\n",
    "[google] (https://www.google.com)"
   ]
  },
  {
   "cell_type": "code",
   "execution_count": null,
   "id": "d36bc70b-c760-435c-98c5-7d89422f4ae7",
   "metadata": {},
   "outputs": [],
   "source": []
  }
 ],
 "metadata": {
  "kernelspec": {
   "display_name": "Python",
   "language": "python",
   "name": "conda-env-python-py"
  },
  "language_info": {
   "codemirror_mode": {
    "name": "ipython",
    "version": 3
   },
   "file_extension": ".py",
   "mimetype": "text/x-python",
   "name": "python",
   "nbconvert_exporter": "python",
   "pygments_lexer": "ipython3",
   "version": "3.7.12"
  }
 },
 "nbformat": 4,
 "nbformat_minor": 5
}
